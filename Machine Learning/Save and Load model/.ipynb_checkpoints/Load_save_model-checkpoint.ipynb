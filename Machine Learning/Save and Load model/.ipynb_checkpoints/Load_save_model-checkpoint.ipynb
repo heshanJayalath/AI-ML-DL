{
 "cells": [
  {
   "cell_type": "code",
   "execution_count": null,
   "id": "c79fe99e-5180-42b6-b727-e19fb097aa42",
   "metadata": {},
   "outputs": [],
   "source": [
    "from sklearn.dataset import load_iris\n",
    "dataset = load_iris()\n",
    "\n",
    "from sklearn.model_selection import train_test_split\n",
    "x_train, x_test, y_train, y_test  = train_test_split(dataset.data, dataset.target, test_size=0.2)\n",
    "\n",
    "from sklearn.ensemble import RandomForestClassifier\n",
    "rf = RandomForestClassifier(n_estimators=100)\n",
    "\n",
    "rf.fit(x_train, y_train)\n",
    "\n",
    "print(\"Accuracy: {}\".format(rf.score(x_test,y_test)))"
   ]
  },
  {
   "cell_type": "code",
   "execution_count": null,
   "id": "5f5e53ac-7d27-4e48-86c4-63b2064797ae",
   "metadata": {},
   "outputs": [],
   "source": [
    "#Save and load models using Pickle"
   ]
  },
  {
   "cell_type": "code",
   "execution_count": null,
   "id": "bec7a35f-00e9-4ac5-b671-40de1420a7f4",
   "metadata": {},
   "outputs": [],
   "source": [
    "import pickle"
   ]
  },
  {
   "cell_type": "code",
   "execution_count": null,
   "id": "cceb936e-6cc7-40e2-a27c-07ffb5db30b8",
   "metadata": {},
   "outputs": [],
   "source": [
    "#Save model\n",
    "with open(\"rf_model1.pickle\",\"wb\") as file:\n",
    "    pickle.dump(rf,file)"
   ]
  },
  {
   "cell_type": "code",
   "execution_count": null,
   "id": "44340cf0-0662-4fc8-9420-caf477560a46",
   "metadata": {},
   "outputs": [],
   "source": [
    "#Load model\n",
    "with open(\"rf_model1.pickle\",\"rb\") as file:\n",
    "    pickle.load(file)"
   ]
  }
 ],
 "metadata": {
  "kernelspec": {
   "display_name": "Python 3 (ipykernel)",
   "language": "python",
   "name": "python3"
  },
  "language_info": {
   "codemirror_mode": {
    "name": "ipython",
    "version": 3
   },
   "file_extension": ".py",
   "mimetype": "text/x-python",
   "name": "python",
   "nbconvert_exporter": "python",
   "pygments_lexer": "ipython3",
   "version": "3.11.7"
  }
 },
 "nbformat": 4,
 "nbformat_minor": 5
}
