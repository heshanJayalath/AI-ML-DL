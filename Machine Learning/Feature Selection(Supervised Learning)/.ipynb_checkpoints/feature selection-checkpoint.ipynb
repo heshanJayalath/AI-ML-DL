{
 "cells": [
  {
   "cell_type": "markdown",
   "id": "c2448e61-d68b-44ad-a224-e6076d0dc081",
   "metadata": {},
   "source": [
    "How to do feature selection in Regression Problem"
   ]
  },
  {
   "cell_type": "code",
   "execution_count": 1,
   "id": "1bddae5e-45b7-415b-adaa-ae3eec93bbff",
   "metadata": {},
   "outputs": [],
   "source": [
    "import pandas as pd\n",
    "import matplotlib.pyplot as plt"
   ]
  },
  {
   "cell_type": "code",
   "execution_count": 2,
   "id": "1061fe48-95a0-4250-b6df-de686bf0d7f2",
   "metadata": {},
   "outputs": [],
   "source": [
    "from sklearn.datasets import make_regression\n",
    "x,y = make_regression(n_samples=50,n_features=5)"
   ]
  },
  {
   "cell_type": "code",
   "execution_count": 3,
   "id": "bc201917-76a3-441e-b196-fc0db603c28a",
   "metadata": {},
   "outputs": [
    {
     "data": {
      "text/html": [
       "<div>\n",
       "<style scoped>\n",
       "    .dataframe tbody tr th:only-of-type {\n",
       "        vertical-align: middle;\n",
       "    }\n",
       "\n",
       "    .dataframe tbody tr th {\n",
       "        vertical-align: top;\n",
       "    }\n",
       "\n",
       "    .dataframe thead th {\n",
       "        text-align: right;\n",
       "    }\n",
       "</style>\n",
       "<table border=\"1\" class=\"dataframe\">\n",
       "  <thead>\n",
       "    <tr style=\"text-align: right;\">\n",
       "      <th></th>\n",
       "      <th>0</th>\n",
       "      <th>1</th>\n",
       "      <th>2</th>\n",
       "      <th>3</th>\n",
       "      <th>4</th>\n",
       "    </tr>\n",
       "  </thead>\n",
       "  <tbody>\n",
       "    <tr>\n",
       "      <th>0</th>\n",
       "      <td>0.032365</td>\n",
       "      <td>-0.286906</td>\n",
       "      <td>1.155456</td>\n",
       "      <td>-0.513941</td>\n",
       "      <td>-2.309355</td>\n",
       "    </tr>\n",
       "    <tr>\n",
       "      <th>1</th>\n",
       "      <td>-0.412778</td>\n",
       "      <td>-0.678839</td>\n",
       "      <td>-0.499364</td>\n",
       "      <td>0.518220</td>\n",
       "      <td>-2.101707</td>\n",
       "    </tr>\n",
       "    <tr>\n",
       "      <th>2</th>\n",
       "      <td>0.483162</td>\n",
       "      <td>-0.200176</td>\n",
       "      <td>-0.957506</td>\n",
       "      <td>-0.267437</td>\n",
       "      <td>-0.450387</td>\n",
       "    </tr>\n",
       "    <tr>\n",
       "      <th>3</th>\n",
       "      <td>0.003563</td>\n",
       "      <td>1.109095</td>\n",
       "      <td>-0.009086</td>\n",
       "      <td>0.385020</td>\n",
       "      <td>1.862593</td>\n",
       "    </tr>\n",
       "    <tr>\n",
       "      <th>4</th>\n",
       "      <td>0.276647</td>\n",
       "      <td>-1.297385</td>\n",
       "      <td>0.327036</td>\n",
       "      <td>-0.379676</td>\n",
       "      <td>1.044748</td>\n",
       "    </tr>\n",
       "  </tbody>\n",
       "</table>\n",
       "</div>"
      ],
      "text/plain": [
       "          0         1         2         3         4\n",
       "0  0.032365 -0.286906  1.155456 -0.513941 -2.309355\n",
       "1 -0.412778 -0.678839 -0.499364  0.518220 -2.101707\n",
       "2  0.483162 -0.200176 -0.957506 -0.267437 -0.450387\n",
       "3  0.003563  1.109095 -0.009086  0.385020  1.862593\n",
       "4  0.276647 -1.297385  0.327036 -0.379676  1.044748"
      ]
     },
     "execution_count": 3,
     "metadata": {},
     "output_type": "execute_result"
    }
   ],
   "source": [
    "x = pd.DataFrame(x)\n",
    "x.head()"
   ]
  },
  {
   "cell_type": "code",
   "execution_count": 4,
   "id": "3bbc9198-834b-48e5-a3c5-d5582f80e275",
   "metadata": {},
   "outputs": [
    {
     "data": {
      "text/plain": [
       "array([-228.30198268, -238.57162702,  -72.38901819,  280.94224252,\n",
       "        -11.70814363])"
      ]
     },
     "execution_count": 4,
     "metadata": {},
     "output_type": "execute_result"
    }
   ],
   "source": [
    "y[:5]"
   ]
  },
  {
   "cell_type": "code",
   "execution_count": 7,
   "id": "baba488a-9850-405a-82e7-1d27acb89c2f",
   "metadata": {},
   "outputs": [],
   "source": [
    "from sklearn.feature_selection import mutual_info_regression #calculate the mutual inforamtion between x values and y values\n",
    "from sklearn.feature_selection import SelectKBest #extract the features according to best mutual information"
   ]
  },
  {
   "cell_type": "code",
   "execution_count": null,
   "id": "6e1c0a82-76d8-4b00-a492-1f8e10a6de4d",
   "metadata": {},
   "outputs": [],
   "source": []
  },
  {
   "cell_type": "code",
   "execution_count": null,
   "id": "fed6c1d7-b3e8-47be-a255-f9fbdc37c980",
   "metadata": {},
   "outputs": [],
   "source": []
  }
 ],
 "metadata": {
  "kernelspec": {
   "display_name": "Python 3 (ipykernel)",
   "language": "python",
   "name": "python3"
  },
  "language_info": {
   "codemirror_mode": {
    "name": "ipython",
    "version": 3
   },
   "file_extension": ".py",
   "mimetype": "text/x-python",
   "name": "python",
   "nbconvert_exporter": "python",
   "pygments_lexer": "ipython3",
   "version": "3.11.7"
  }
 },
 "nbformat": 4,
 "nbformat_minor": 5
}
