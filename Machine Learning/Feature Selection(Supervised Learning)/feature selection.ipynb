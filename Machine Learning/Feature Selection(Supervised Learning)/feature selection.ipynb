{
 "cells": [
  {
   "cell_type": "markdown",
   "id": "c2448e61-d68b-44ad-a224-e6076d0dc081",
   "metadata": {},
   "source": [
    "How to do feature selection in Regression Problem"
   ]
  },
  {
   "cell_type": "code",
   "execution_count": 1,
   "id": "1bddae5e-45b7-415b-adaa-ae3eec93bbff",
   "metadata": {},
   "outputs": [],
   "source": [
    "import pandas as pd\n",
    "import matplotlib.pyplot as plt"
   ]
  },
  {
   "cell_type": "code",
   "execution_count": 2,
   "id": "1061fe48-95a0-4250-b6df-de686bf0d7f2",
   "metadata": {},
   "outputs": [],
   "source": [
    "from sklearn.datasets import make_regression\n",
    "x,y = make_regression(n_samples=50,n_features=5)"
   ]
  },
  {
   "cell_type": "code",
   "execution_count": 3,
   "id": "bc201917-76a3-441e-b196-fc0db603c28a",
   "metadata": {},
   "outputs": [
    {
     "data": {
      "text/html": [
       "<div>\n",
       "<style scoped>\n",
       "    .dataframe tbody tr th:only-of-type {\n",
       "        vertical-align: middle;\n",
       "    }\n",
       "\n",
       "    .dataframe tbody tr th {\n",
       "        vertical-align: top;\n",
       "    }\n",
       "\n",
       "    .dataframe thead th {\n",
       "        text-align: right;\n",
       "    }\n",
       "</style>\n",
       "<table border=\"1\" class=\"dataframe\">\n",
       "  <thead>\n",
       "    <tr style=\"text-align: right;\">\n",
       "      <th></th>\n",
       "      <th>0</th>\n",
       "      <th>1</th>\n",
       "      <th>2</th>\n",
       "      <th>3</th>\n",
       "      <th>4</th>\n",
       "    </tr>\n",
       "  </thead>\n",
       "  <tbody>\n",
       "    <tr>\n",
       "      <th>0</th>\n",
       "      <td>0.032365</td>\n",
       "      <td>-0.286906</td>\n",
       "      <td>1.155456</td>\n",
       "      <td>-0.513941</td>\n",
       "      <td>-2.309355</td>\n",
       "    </tr>\n",
       "    <tr>\n",
       "      <th>1</th>\n",
       "      <td>-0.412778</td>\n",
       "      <td>-0.678839</td>\n",
       "      <td>-0.499364</td>\n",
       "      <td>0.518220</td>\n",
       "      <td>-2.101707</td>\n",
       "    </tr>\n",
       "    <tr>\n",
       "      <th>2</th>\n",
       "      <td>0.483162</td>\n",
       "      <td>-0.200176</td>\n",
       "      <td>-0.957506</td>\n",
       "      <td>-0.267437</td>\n",
       "      <td>-0.450387</td>\n",
       "    </tr>\n",
       "    <tr>\n",
       "      <th>3</th>\n",
       "      <td>0.003563</td>\n",
       "      <td>1.109095</td>\n",
       "      <td>-0.009086</td>\n",
       "      <td>0.385020</td>\n",
       "      <td>1.862593</td>\n",
       "    </tr>\n",
       "    <tr>\n",
       "      <th>4</th>\n",
       "      <td>0.276647</td>\n",
       "      <td>-1.297385</td>\n",
       "      <td>0.327036</td>\n",
       "      <td>-0.379676</td>\n",
       "      <td>1.044748</td>\n",
       "    </tr>\n",
       "  </tbody>\n",
       "</table>\n",
       "</div>"
      ],
      "text/plain": [
       "          0         1         2         3         4\n",
       "0  0.032365 -0.286906  1.155456 -0.513941 -2.309355\n",
       "1 -0.412778 -0.678839 -0.499364  0.518220 -2.101707\n",
       "2  0.483162 -0.200176 -0.957506 -0.267437 -0.450387\n",
       "3  0.003563  1.109095 -0.009086  0.385020  1.862593\n",
       "4  0.276647 -1.297385  0.327036 -0.379676  1.044748"
      ]
     },
     "execution_count": 3,
     "metadata": {},
     "output_type": "execute_result"
    }
   ],
   "source": [
    "x = pd.DataFrame(x)\n",
    "x.head()"
   ]
  },
  {
   "cell_type": "code",
   "execution_count": 4,
   "id": "3bbc9198-834b-48e5-a3c5-d5582f80e275",
   "metadata": {},
   "outputs": [
    {
     "data": {
      "text/plain": [
       "array([-228.30198268, -238.57162702,  -72.38901819,  280.94224252,\n",
       "        -11.70814363])"
      ]
     },
     "execution_count": 4,
     "metadata": {},
     "output_type": "execute_result"
    }
   ],
   "source": [
    "y[:5]"
   ]
  },
  {
   "cell_type": "code",
   "execution_count": 7,
   "id": "baba488a-9850-405a-82e7-1d27acb89c2f",
   "metadata": {},
   "outputs": [],
   "source": [
    "from sklearn.feature_selection import mutual_info_regression #calculate the mutual inforamtion between x values and y values\n",
    "from sklearn.feature_selection import SelectKBest #extract the features according to best mutual information"
   ]
  },
  {
   "cell_type": "code",
   "execution_count": 8,
   "id": "6e1c0a82-76d8-4b00-a492-1f8e10a6de4d",
   "metadata": {},
   "outputs": [
    {
     "data": {
      "text/html": [
       "<style>#sk-container-id-1 {color: black;background-color: white;}#sk-container-id-1 pre{padding: 0;}#sk-container-id-1 div.sk-toggleable {background-color: white;}#sk-container-id-1 label.sk-toggleable__label {cursor: pointer;display: block;width: 100%;margin-bottom: 0;padding: 0.3em;box-sizing: border-box;text-align: center;}#sk-container-id-1 label.sk-toggleable__label-arrow:before {content: \"▸\";float: left;margin-right: 0.25em;color: #696969;}#sk-container-id-1 label.sk-toggleable__label-arrow:hover:before {color: black;}#sk-container-id-1 div.sk-estimator:hover label.sk-toggleable__label-arrow:before {color: black;}#sk-container-id-1 div.sk-toggleable__content {max-height: 0;max-width: 0;overflow: hidden;text-align: left;background-color: #f0f8ff;}#sk-container-id-1 div.sk-toggleable__content pre {margin: 0.2em;color: black;border-radius: 0.25em;background-color: #f0f8ff;}#sk-container-id-1 input.sk-toggleable__control:checked~div.sk-toggleable__content {max-height: 200px;max-width: 100%;overflow: auto;}#sk-container-id-1 input.sk-toggleable__control:checked~label.sk-toggleable__label-arrow:before {content: \"▾\";}#sk-container-id-1 div.sk-estimator input.sk-toggleable__control:checked~label.sk-toggleable__label {background-color: #d4ebff;}#sk-container-id-1 div.sk-label input.sk-toggleable__control:checked~label.sk-toggleable__label {background-color: #d4ebff;}#sk-container-id-1 input.sk-hidden--visually {border: 0;clip: rect(1px 1px 1px 1px);clip: rect(1px, 1px, 1px, 1px);height: 1px;margin: -1px;overflow: hidden;padding: 0;position: absolute;width: 1px;}#sk-container-id-1 div.sk-estimator {font-family: monospace;background-color: #f0f8ff;border: 1px dotted black;border-radius: 0.25em;box-sizing: border-box;margin-bottom: 0.5em;}#sk-container-id-1 div.sk-estimator:hover {background-color: #d4ebff;}#sk-container-id-1 div.sk-parallel-item::after {content: \"\";width: 100%;border-bottom: 1px solid gray;flex-grow: 1;}#sk-container-id-1 div.sk-label:hover label.sk-toggleable__label {background-color: #d4ebff;}#sk-container-id-1 div.sk-serial::before {content: \"\";position: absolute;border-left: 1px solid gray;box-sizing: border-box;top: 0;bottom: 0;left: 50%;z-index: 0;}#sk-container-id-1 div.sk-serial {display: flex;flex-direction: column;align-items: center;background-color: white;padding-right: 0.2em;padding-left: 0.2em;position: relative;}#sk-container-id-1 div.sk-item {position: relative;z-index: 1;}#sk-container-id-1 div.sk-parallel {display: flex;align-items: stretch;justify-content: center;background-color: white;position: relative;}#sk-container-id-1 div.sk-item::before, #sk-container-id-1 div.sk-parallel-item::before {content: \"\";position: absolute;border-left: 1px solid gray;box-sizing: border-box;top: 0;bottom: 0;left: 50%;z-index: -1;}#sk-container-id-1 div.sk-parallel-item {display: flex;flex-direction: column;z-index: 1;position: relative;background-color: white;}#sk-container-id-1 div.sk-parallel-item:first-child::after {align-self: flex-end;width: 50%;}#sk-container-id-1 div.sk-parallel-item:last-child::after {align-self: flex-start;width: 50%;}#sk-container-id-1 div.sk-parallel-item:only-child::after {width: 0;}#sk-container-id-1 div.sk-dashed-wrapped {border: 1px dashed gray;margin: 0 0.4em 0.5em 0.4em;box-sizing: border-box;padding-bottom: 0.4em;background-color: white;}#sk-container-id-1 div.sk-label label {font-family: monospace;font-weight: bold;display: inline-block;line-height: 1.2em;}#sk-container-id-1 div.sk-label-container {text-align: center;}#sk-container-id-1 div.sk-container {/* jupyter's `normalize.less` sets `[hidden] { display: none; }` but bootstrap.min.css set `[hidden] { display: none !important; }` so we also need the `!important` here to be able to override the default hidden behavior on the sphinx rendered scikit-learn.org. See: https://github.com/scikit-learn/scikit-learn/issues/21755 */display: inline-block !important;position: relative;}#sk-container-id-1 div.sk-text-repr-fallback {display: none;}</style><div id=\"sk-container-id-1\" class=\"sk-top-container\"><div class=\"sk-text-repr-fallback\"><pre>SelectKBest(k=3,\n",
       "            score_func=&lt;function mutual_info_regression at 0x000002168BC88360&gt;)</pre><b>In a Jupyter environment, please rerun this cell to show the HTML representation or trust the notebook. <br />On GitHub, the HTML representation is unable to render, please try loading this page with nbviewer.org.</b></div><div class=\"sk-container\" hidden><div class=\"sk-item\"><div class=\"sk-estimator sk-toggleable\"><input class=\"sk-toggleable__control sk-hidden--visually\" id=\"sk-estimator-id-1\" type=\"checkbox\" checked><label for=\"sk-estimator-id-1\" class=\"sk-toggleable__label sk-toggleable__label-arrow\">SelectKBest</label><div class=\"sk-toggleable__content\"><pre>SelectKBest(k=3,\n",
       "            score_func=&lt;function mutual_info_regression at 0x000002168BC88360&gt;)</pre></div></div></div></div></div>"
      ],
      "text/plain": [
       "SelectKBest(k=3,\n",
       "            score_func=<function mutual_info_regression at 0x000002168BC88360>)"
      ]
     },
     "execution_count": 8,
     "metadata": {},
     "output_type": "execute_result"
    }
   ],
   "source": [
    "fs= SelectKBest(score_func=mutual_info_regression, k=3) #best 3 feature out of 5\n",
    "fs.fit(x,y)"
   ]
  },
  {
   "cell_type": "code",
   "execution_count": 10,
   "id": "fed6c1d7-b3e8-47be-a255-f9fbdc37c980",
   "metadata": {},
   "outputs": [
    {
     "data": {
      "text/plain": [
       "array([0.07134747, 0.10378449, 0.        , 0.06986889, 0.        ])"
      ]
     },
     "execution_count": 10,
     "metadata": {},
     "output_type": "execute_result"
    }
   ],
   "source": [
    "fs.scores_"
   ]
  },
  {
   "cell_type": "code",
   "execution_count": 12,
   "id": "11f27801-5000-4b0f-81c4-28048a58c990",
   "metadata": {},
   "outputs": [
    {
     "data": {
      "text/plain": [
       "0    0.071347\n",
       "1    0.103784\n",
       "2    0.000000\n",
       "3    0.069869\n",
       "4    0.000000\n",
       "dtype: float64"
      ]
     },
     "execution_count": 12,
     "metadata": {},
     "output_type": "execute_result"
    }
   ],
   "source": [
    "mi_scores = pd.Series(fs.scores_, index=x.columns)\n",
    "mi_scores"
   ]
  },
  {
   "cell_type": "code",
   "execution_count": 13,
   "id": "1d620fe6-a174-46de-8d36-2cfc0111020b",
   "metadata": {},
   "outputs": [
    {
     "data": {
      "text/plain": [
       "<Axes: >"
      ]
     },
     "execution_count": 13,
     "metadata": {},
     "output_type": "execute_result"
    },
    {
     "data": {
      "image/png": "[encoded data removed]",
      "text/plain": [
       "<Figure size 600x400 with 1 Axes>"
      ]
     },
     "metadata": {},
     "output_type": "display_data"
    }
   ],
   "source": [
    "mi_scores.sort_values(ascending=False).plot.bar(figsize=(6,4))"
   ]
  },
  {
   "cell_type": "code",
   "execution_count": 14,
   "id": "935b13bd-75fb-4ce3-870b-f2bf5ea8e07e",
   "metadata": {},
   "outputs": [],
   "source": [
    "x_selected = fs.fit_transform(x,y)\n",
    "x_selected = pd.DataFrame(x_selected)"
   ]
  },
  {
   "cell_type": "code",
   "execution_count": 15,
   "id": "5222d31d-a4ae-4c31-ae7e-c7c7a939d793",
   "metadata": {},
   "outputs": [
    {
     "data": {
      "text/html": [
       "<div>\n",
       "<style scoped>\n",
       "    .dataframe tbody tr th:only-of-type {\n",
       "        vertical-align: middle;\n",
       "    }\n",
       "\n",
       "    .dataframe tbody tr th {\n",
       "        vertical-align: top;\n",
       "    }\n",
       "\n",
       "    .dataframe thead th {\n",
       "        text-align: right;\n",
       "    }\n",
       "</style>\n",
       "<table border=\"1\" class=\"dataframe\">\n",
       "  <thead>\n",
       "    <tr style=\"text-align: right;\">\n",
       "      <th></th>\n",
       "      <th>0</th>\n",
       "      <th>1</th>\n",
       "      <th>2</th>\n",
       "      <th>3</th>\n",
       "      <th>4</th>\n",
       "    </tr>\n",
       "  </thead>\n",
       "  <tbody>\n",
       "    <tr>\n",
       "      <th>0</th>\n",
       "      <td>0.032365</td>\n",
       "      <td>-0.286906</td>\n",
       "      <td>1.155456</td>\n",
       "      <td>-0.513941</td>\n",
       "      <td>-2.309355</td>\n",
       "    </tr>\n",
       "    <tr>\n",
       "      <th>1</th>\n",
       "      <td>-0.412778</td>\n",
       "      <td>-0.678839</td>\n",
       "      <td>-0.499364</td>\n",
       "      <td>0.518220</td>\n",
       "      <td>-2.101707</td>\n",
       "    </tr>\n",
       "    <tr>\n",
       "      <th>2</th>\n",
       "      <td>0.483162</td>\n",
       "      <td>-0.200176</td>\n",
       "      <td>-0.957506</td>\n",
       "      <td>-0.267437</td>\n",
       "      <td>-0.450387</td>\n",
       "    </tr>\n",
       "    <tr>\n",
       "      <th>3</th>\n",
       "      <td>0.003563</td>\n",
       "      <td>1.109095</td>\n",
       "      <td>-0.009086</td>\n",
       "      <td>0.385020</td>\n",
       "      <td>1.862593</td>\n",
       "    </tr>\n",
       "    <tr>\n",
       "      <th>4</th>\n",
       "      <td>0.276647</td>\n",
       "      <td>-1.297385</td>\n",
       "      <td>0.327036</td>\n",
       "      <td>-0.379676</td>\n",
       "      <td>1.044748</td>\n",
       "    </tr>\n",
       "  </tbody>\n",
       "</table>\n",
       "</div>"
      ],
      "text/plain": [
       "          0         1         2         3         4\n",
       "0  0.032365 -0.286906  1.155456 -0.513941 -2.309355\n",
       "1 -0.412778 -0.678839 -0.499364  0.518220 -2.101707\n",
       "2  0.483162 -0.200176 -0.957506 -0.267437 -0.450387\n",
       "3  0.003563  1.109095 -0.009086  0.385020  1.862593\n",
       "4  0.276647 -1.297385  0.327036 -0.379676  1.044748"
      ]
     },
     "execution_count": 15,
     "metadata": {},
     "output_type": "execute_result"
    }
   ],
   "source": [
    "x.head()"
   ]
  },
  {
   "cell_type": "code",
   "execution_count": 16,
   "id": "db358bad-e409-4067-8b01-bb5a31627e50",
   "metadata": {},
   "outputs": [
    {
     "data": {
      "text/html": [
       "<div>\n",
       "<style scoped>\n",
       "    .dataframe tbody tr th:only-of-type {\n",
       "        vertical-align: middle;\n",
       "    }\n",
       "\n",
       "    .dataframe tbody tr th {\n",
       "        vertical-align: top;\n",
       "    }\n",
       "\n",
       "    .dataframe thead th {\n",
       "        text-align: right;\n",
       "    }\n",
       "</style>\n",
       "<table border=\"1\" class=\"dataframe\">\n",
       "  <thead>\n",
       "    <tr style=\"text-align: right;\">\n",
       "      <th></th>\n",
       "      <th>0</th>\n",
       "      <th>1</th>\n",
       "      <th>2</th>\n",
       "    </tr>\n",
       "  </thead>\n",
       "  <tbody>\n",
       "    <tr>\n",
       "      <th>0</th>\n",
       "      <td>0.032365</td>\n",
       "      <td>-0.286906</td>\n",
       "      <td>-0.513941</td>\n",
       "    </tr>\n",
       "    <tr>\n",
       "      <th>1</th>\n",
       "      <td>-0.412778</td>\n",
       "      <td>-0.678839</td>\n",
       "      <td>0.518220</td>\n",
       "    </tr>\n",
       "    <tr>\n",
       "      <th>2</th>\n",
       "      <td>0.483162</td>\n",
       "      <td>-0.200176</td>\n",
       "      <td>-0.267437</td>\n",
       "    </tr>\n",
       "    <tr>\n",
       "      <th>3</th>\n",
       "      <td>0.003563</td>\n",
       "      <td>1.109095</td>\n",
       "      <td>0.385020</td>\n",
       "    </tr>\n",
       "    <tr>\n",
       "      <th>4</th>\n",
       "      <td>0.276647</td>\n",
       "      <td>-1.297385</td>\n",
       "      <td>-0.379676</td>\n",
       "    </tr>\n",
       "  </tbody>\n",
       "</table>\n",
       "</div>"
      ],
      "text/plain": [
       "          0         1         2\n",
       "0  0.032365 -0.286906 -0.513941\n",
       "1 -0.412778 -0.678839  0.518220\n",
       "2  0.483162 -0.200176 -0.267437\n",
       "3  0.003563  1.109095  0.385020\n",
       "4  0.276647 -1.297385 -0.379676"
      ]
     },
     "execution_count": 16,
     "metadata": {},
     "output_type": "execute_result"
    }
   ],
   "source": [
    "x_selected.head()"
   ]
  },
  {
   "cell_type": "markdown",
   "id": "a38d1ade-0b32-4971-a9d0-2c676ea6efb8",
   "metadata": {},
   "source": [
    "how to use feature selection in classification problem"
   ]
  },
  {
   "cell_type": "code",
   "execution_count": 17,
   "id": "fdbcd034-3508-4159-91c7-b0d6ace23ba3",
   "metadata": {},
   "outputs": [],
   "source": [
    "from sklearn.datasets import make_classification\n",
    "from sklearn.feature_selection import mutual_info_classif"
   ]
  },
  {
   "cell_type": "code",
   "execution_count": 18,
   "id": "b984add1-b6cb-4bd5-ae86-a4a16a651621",
   "metadata": {},
   "outputs": [],
   "source": [
    "x,y =make_classification(n_samples=50, n_features=5, n_informative=2)\n",
    "x = pd.DataFrame(x)"
   ]
  },
  {
   "cell_type": "code",
   "execution_count": 19,
   "id": "1ffd5b58-0099-4e8a-bfd3-6ff29b47f4cb",
   "metadata": {},
   "outputs": [
    {
     "data": {
      "text/html": [
       "<div>\n",
       "<style scoped>\n",
       "    .dataframe tbody tr th:only-of-type {\n",
       "        vertical-align: middle;\n",
       "    }\n",
       "\n",
       "    .dataframe tbody tr th {\n",
       "        vertical-align: top;\n",
       "    }\n",
       "\n",
       "    .dataframe thead th {\n",
       "        text-align: right;\n",
       "    }\n",
       "</style>\n",
       "<table border=\"1\" class=\"dataframe\">\n",
       "  <thead>\n",
       "    <tr style=\"text-align: right;\">\n",
       "      <th></th>\n",
       "      <th>0</th>\n",
       "      <th>1</th>\n",
       "      <th>2</th>\n",
       "      <th>3</th>\n",
       "      <th>4</th>\n",
       "    </tr>\n",
       "  </thead>\n",
       "  <tbody>\n",
       "    <tr>\n",
       "      <th>0</th>\n",
       "      <td>-0.741599</td>\n",
       "      <td>-1.447872</td>\n",
       "      <td>-0.627257</td>\n",
       "      <td>-0.357491</td>\n",
       "      <td>1.019497</td>\n",
       "    </tr>\n",
       "    <tr>\n",
       "      <th>1</th>\n",
       "      <td>-0.796458</td>\n",
       "      <td>-1.536667</td>\n",
       "      <td>-0.508856</td>\n",
       "      <td>-0.504472</td>\n",
       "      <td>-0.023802</td>\n",
       "    </tr>\n",
       "    <tr>\n",
       "      <th>2</th>\n",
       "      <td>0.686782</td>\n",
       "      <td>1.476711</td>\n",
       "      <td>1.803894</td>\n",
       "      <td>-0.563447</td>\n",
       "      <td>0.911325</td>\n",
       "    </tr>\n",
       "    <tr>\n",
       "      <th>3</th>\n",
       "      <td>0.787974</td>\n",
       "      <td>1.456276</td>\n",
       "      <td>-0.072890</td>\n",
       "      <td>0.920628</td>\n",
       "      <td>-0.167885</td>\n",
       "    </tr>\n",
       "    <tr>\n",
       "      <th>4</th>\n",
       "      <td>-0.219332</td>\n",
       "      <td>-0.613463</td>\n",
       "      <td>-1.853051</td>\n",
       "      <td>1.113918</td>\n",
       "      <td>-1.122758</td>\n",
       "    </tr>\n",
       "  </tbody>\n",
       "</table>\n",
       "</div>"
      ],
      "text/plain": [
       "          0         1         2         3         4\n",
       "0 -0.741599 -1.447872 -0.627257 -0.357491  1.019497\n",
       "1 -0.796458 -1.536667 -0.508856 -0.504472 -0.023802\n",
       "2  0.686782  1.476711  1.803894 -0.563447  0.911325\n",
       "3  0.787974  1.456276 -0.072890  0.920628 -0.167885\n",
       "4 -0.219332 -0.613463 -1.853051  1.113918 -1.122758"
      ]
     },
     "execution_count": 19,
     "metadata": {},
     "output_type": "execute_result"
    }
   ],
   "source": [
    "x.head()"
   ]
  },
  {
   "cell_type": "code",
   "execution_count": 20,
   "id": "c9a52a6a-4c2a-4c7a-a4ac-5a9794d11cfd",
   "metadata": {},
   "outputs": [
    {
     "data": {
      "text/plain": [
       "array([0, 0, 1, 0, 1])"
      ]
     },
     "execution_count": 20,
     "metadata": {},
     "output_type": "execute_result"
    }
   ],
   "source": [
    "y[:5]"
   ]
  },
  {
   "cell_type": "code",
   "execution_count": 21,
   "id": "c04e6c0b-12d7-4683-8fea-74d8875a93f2",
   "metadata": {},
   "outputs": [
    {
     "data": {
      "text/plain": [
       "<Axes: >"
      ]
     },
     "execution_count": 21,
     "metadata": {},
     "output_type": "execute_result"
    },
    {
     "data": {
      "image/png": "[encoded data removed]",
      "text/plain": [
       "<Figure size 600x400 with 1 Axes>"
      ]
     },
     "metadata": {},
     "output_type": "display_data"
    }
   ],
   "source": [
    "fs = SelectKBest(score_func=mutual_info_classif,k=3)\n",
    "fs.fit(x,y)\n",
    "mi_score = pd.Series(fs.scores_, index=x.columns)\n",
    "mi_score.sort_values(ascending=False).plot.bar(figsize=(6,4))"
   ]
  },
  {
   "cell_type": "code",
   "execution_count": 22,
   "id": "5062ca43-47a5-4e25-a6c0-b23b96ccb3f9",
   "metadata": {},
   "outputs": [],
   "source": [
    "selected_x = fs.fit_transform(x,y)\n",
    "selected_x = pd.DataFrame(selected_x)"
   ]
  },
  {
   "cell_type": "code",
   "execution_count": 23,
   "id": "ec86c1c5-3567-49c4-8677-7d6c70cc442e",
   "metadata": {},
   "outputs": [
    {
     "data": {
      "text/html": [
       "<div>\n",
       "<style scoped>\n",
       "    .dataframe tbody tr th:only-of-type {\n",
       "        vertical-align: middle;\n",
       "    }\n",
       "\n",
       "    .dataframe tbody tr th {\n",
       "        vertical-align: top;\n",
       "    }\n",
       "\n",
       "    .dataframe thead th {\n",
       "        text-align: right;\n",
       "    }\n",
       "</style>\n",
       "<table border=\"1\" class=\"dataframe\">\n",
       "  <thead>\n",
       "    <tr style=\"text-align: right;\">\n",
       "      <th></th>\n",
       "      <th>0</th>\n",
       "      <th>1</th>\n",
       "      <th>2</th>\n",
       "      <th>3</th>\n",
       "      <th>4</th>\n",
       "    </tr>\n",
       "  </thead>\n",
       "  <tbody>\n",
       "    <tr>\n",
       "      <th>0</th>\n",
       "      <td>-0.741599</td>\n",
       "      <td>-1.447872</td>\n",
       "      <td>-0.627257</td>\n",
       "      <td>-0.357491</td>\n",
       "      <td>1.019497</td>\n",
       "    </tr>\n",
       "    <tr>\n",
       "      <th>1</th>\n",
       "      <td>-0.796458</td>\n",
       "      <td>-1.536667</td>\n",
       "      <td>-0.508856</td>\n",
       "      <td>-0.504472</td>\n",
       "      <td>-0.023802</td>\n",
       "    </tr>\n",
       "    <tr>\n",
       "      <th>2</th>\n",
       "      <td>0.686782</td>\n",
       "      <td>1.476711</td>\n",
       "      <td>1.803894</td>\n",
       "      <td>-0.563447</td>\n",
       "      <td>0.911325</td>\n",
       "    </tr>\n",
       "    <tr>\n",
       "      <th>3</th>\n",
       "      <td>0.787974</td>\n",
       "      <td>1.456276</td>\n",
       "      <td>-0.072890</td>\n",
       "      <td>0.920628</td>\n",
       "      <td>-0.167885</td>\n",
       "    </tr>\n",
       "    <tr>\n",
       "      <th>4</th>\n",
       "      <td>-0.219332</td>\n",
       "      <td>-0.613463</td>\n",
       "      <td>-1.853051</td>\n",
       "      <td>1.113918</td>\n",
       "      <td>-1.122758</td>\n",
       "    </tr>\n",
       "  </tbody>\n",
       "</table>\n",
       "</div>"
      ],
      "text/plain": [
       "          0         1         2         3         4\n",
       "0 -0.741599 -1.447872 -0.627257 -0.357491  1.019497\n",
       "1 -0.796458 -1.536667 -0.508856 -0.504472 -0.023802\n",
       "2  0.686782  1.476711  1.803894 -0.563447  0.911325\n",
       "3  0.787974  1.456276 -0.072890  0.920628 -0.167885\n",
       "4 -0.219332 -0.613463 -1.853051  1.113918 -1.122758"
      ]
     },
     "execution_count": 23,
     "metadata": {},
     "output_type": "execute_result"
    }
   ],
   "source": [
    "x.head()"
   ]
  },
  {
   "cell_type": "code",
   "execution_count": null,
   "id": "bab38c32-16ad-4a61-86bd-2ebf2f52dc14",
   "metadata": {},
   "outputs": [],
   "source": []
  }
 ],
 "metadata": {
  "kernelspec": {
   "display_name": "Python 3 (ipykernel)",
   "language": "python",
   "name": "python3"
  },
  "language_info": {
   "codemirror_mode": {
    "name": "ipython",
    "version": 3
   },
   "file_extension": ".py",
   "mimetype": "text/x-python",
   "name": "python",
   "nbconvert_exporter": "python",
   "pygments_lexer": "ipython3",
   "version": "3.11.7"
  }
 },
 "nbformat": 4,
 "nbformat_minor": 5
}
