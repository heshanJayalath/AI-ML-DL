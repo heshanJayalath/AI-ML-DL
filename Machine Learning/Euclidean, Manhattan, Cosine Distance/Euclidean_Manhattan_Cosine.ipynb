{
 "cells": [
  {
   "cell_type": "code",
   "execution_count": 1,
   "id": "30ab1088-d076-4274-98bf-93e33ecbcc69",
   "metadata": {},
   "outputs": [],
   "source": [
    "A = (5,3)\n",
    "B = (2,4)"
   ]
  },
  {
   "cell_type": "code",
   "execution_count": 2,
   "id": "189554a0-ba18-40bd-9440-6980c5402236",
   "metadata": {},
   "outputs": [],
   "source": [
    "from scipy.spatial import distance"
   ]
  },
  {
   "cell_type": "code",
   "execution_count": 3,
   "id": "b5e993ab-816b-4b4a-8f8c-7b041e962cc8",
   "metadata": {},
   "outputs": [
    {
     "name": "stdout",
     "output_type": "stream",
     "text": [
      "3.1622776601683795\n"
     ]
    }
   ],
   "source": [
    "#Euclidean distance\n",
    "d = distance.euclidean(A,B)\n",
    "print(d)"
   ]
  },
  {
   "cell_type": "code",
   "execution_count": 4,
   "id": "531906c9-36fe-44c6-8576-870e214ed677",
   "metadata": {},
   "outputs": [
    {
     "name": "stdout",
     "output_type": "stream",
     "text": [
      "4\n"
     ]
    }
   ],
   "source": [
    "#Manhattan Distance\n",
    "d = distance.cityblock(A,B)\n",
    "print(d)"
   ]
  },
  {
   "cell_type": "code",
   "execution_count": 5,
   "id": "79912fb2-37a1-48b7-89fa-53b2917efc14",
   "metadata": {},
   "outputs": [
    {
     "name": "stdout",
     "output_type": "stream",
     "text": [
      "0.15633851226789253\n"
     ]
    }
   ],
   "source": [
    "#Cosine Distance(measure using angle)\n",
    "d = distance.cosine(A,B)\n",
    "print(d)"
   ]
  },
  {
   "cell_type": "code",
   "execution_count": null,
   "id": "293db85c-f0c9-46d9-ab2b-e905228f00d2",
   "metadata": {},
   "outputs": [],
   "source": []
  }
 ],
 "metadata": {
  "kernelspec": {
   "display_name": "Python 3 (ipykernel)",
   "language": "python",
   "name": "python3"
  },
  "language_info": {
   "codemirror_mode": {
    "name": "ipython",
    "version": 3
   },
   "file_extension": ".py",
   "mimetype": "text/x-python",
   "name": "python",
   "nbconvert_exporter": "python",
   "pygments_lexer": "ipython3",
   "version": "3.11.7"
  }
 },
 "nbformat": 4,
 "nbformat_minor": 5
}
